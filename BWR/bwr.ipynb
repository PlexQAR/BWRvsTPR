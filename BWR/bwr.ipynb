{
 "cells": [
  {
   "cell_type": "code",
   "execution_count": 49,
   "metadata": {
    "id": "EChOeJ7qVUB7"
   },
   "outputs": [],
   "source": [
    "%matplotlib inline\n",
    "import openmc\n",
    "import os\n",
    "import random\n",
    "os.environ['OPENMC_CROSS_SECTIONS'] = '/home/sebas/Documents/Code/jupyter/endfb-viii.0-hdf5/cross_sections.xml'"
   ]
  },
  {
   "cell_type": "code",
   "execution_count": 50,
   "metadata": {
    "id": "-0xO897aWbft"
   },
   "outputs": [],
   "source": [
    "# Materials definitions\n",
    "\n",
    "uo2 = openmc.Material(name='UO2')\n",
    "uo2.add_element('U', 1.0, enrichment=1.5)\n",
    "uo2.add_element('O', 2.0)\n",
    "uo2.set_density('g/cc', 10.0)\n",
    "\n",
    "zircaloy = openmc.Material(name='Zircaloy')\n",
    "zircaloy.set_density('g/cm3', 6.55)\n",
    "zircaloy.add_nuclide('Zr90', 7.2758e-3)\n",
    "\n",
    "steel = openmc.Material(name='Stainless Steel')\n",
    "steel.set_density('g/cm3', 8.00)\n",
    "steel.add_element('C', 0.08, percent_type='wo')\n",
    "steel.add_element('Si', 1.00, percent_type='wo')\n",
    "steel.add_element('Mn', 2.00, percent_type='wo')\n",
    "steel.add_element('P', 0.045, percent_type='wo')\n",
    "steel.add_element('S', 0.030, percent_type='wo')\n",
    "steel.add_element('Cr', 20.0, percent_type='wo')\n",
    "steel.add_element('Ni', 11.0, percent_type='wo')\n",
    "steel.add_element('Fe', 65.845, percent_type='wo')\n",
    "\n",
    "water = openmc.Material(name='Water')\n",
    "water.set_density('g/cm3', 0.76)\n",
    "water.add_element('H', 2)\n",
    "water.add_element('O', 1)\n",
    "water.add_s_alpha_beta('c_H_in_H2O')\n",
    "\n",
    "# Instantiate a Materials collection and export to xml\n",
    "materials_file = openmc.Materials([uo2, water, zircaloy, steel])\n",
    "materials_file.export_to_xml()"
   ]
  },
  {
   "cell_type": "code",
   "execution_count": 51,
   "metadata": {},
   "outputs": [],
   "source": [
    "# Geometry definitions"
   ]
  },
  {
   "cell_type": "code",
   "execution_count": 52,
   "metadata": {
    "id": "J90KA6zdol04"
   },
   "outputs": [],
   "source": [
    "bottom = openmc.ZPlane(z0=-1.0, boundary_type = 'reflective')\n",
    "top = openmc.ZPlane(z0=1.0, boundary_type = 'reflective')"
   ]
  },
  {
   "cell_type": "code",
   "execution_count": 53,
   "metadata": {
    "id": "7UFi6yivaxDS"
   },
   "outputs": [
    {
     "name": "stderr",
     "output_type": "stream",
     "text": [
      "/home/sebas/miniconda3/envs/openmc-env/lib/python3.12/site-packages/openmc/model/funcs.py:114: FutureWarning: The rectangular_prism(...) function has been replaced by the RectangularPrism(...) class. Future versions of OpenMC will not accept rectangular_prism.\n",
      "  warn(\"The rectangular_prism(...) function has been replaced by the \"\n"
     ]
    }
   ],
   "source": [
    "pitch = 1.6256\n",
    "pin_cell_box = openmc.model.rectangular_prism(width=pitch, height=pitch)"
   ]
  },
  {
   "cell_type": "code",
   "execution_count": 54,
   "metadata": {},
   "outputs": [],
   "source": [
    "# Geometry definitions for the fuel rod\n",
    "\n",
    "fuel_or  = openmc.ZCylinder(r=1.0414/2, name='Fuel OR')\n",
    "fclad_ir = openmc.ZCylinder(r=1.06426/2, name='Clad IR')\n",
    "fclad_or = openmc.ZCylinder(r=1.22682/2, name='Clad OR')\n",
    "\n",
    "fuel_region = -fuel_or \n",
    "gap_region  = +fuel_or & -fclad_ir\n",
    "fclad_region  = +fclad_ir & -fclad_or\n",
    "fwater_region = pin_cell_box & +fclad_or\n",
    "\n",
    "fuel_cell = openmc.Cell(name='fuel')\n",
    "fuel_cell.fill = uo2\n",
    "fuel_cell.region = fuel_region \n",
    "\n",
    "gap_cell = openmc.Cell(name='air gap')\n",
    "gap_cell.region = gap_region\n",
    "\n",
    "clad_cell = openmc.Cell(name='clad')\n",
    "clad_cell.fill = zircaloy\n",
    "clad_cell.region = fclad_region\n",
    "\n",
    "fwater_cell = openmc.Cell(name='fwater')\n",
    "fwater_cell.fill = water\n",
    "fwater_cell.region = fwater_region\n",
    "\n",
    "fuel_pin_universe = openmc.Universe(cells=[fuel_cell, gap_cell, clad_cell, fwater_cell])"
   ]
  },
  {
   "cell_type": "code",
   "execution_count": 55,
   "metadata": {},
   "outputs": [
    {
     "data": {
      "text/plain": [
       "<Axes: xlabel='x [cm]', ylabel='y [cm]'>"
      ]
     },
     "execution_count": 55,
     "metadata": {},
     "output_type": "execute_result"
    },
    {
     "data": {
      "image/png": "[encoded data removed]",
      "text/plain": [
       "<Figure size 258.065x259.74 with 1 Axes>"
      ]
     },
     "metadata": {},
     "output_type": "display_data"
    }
   ],
   "source": [
    "fuel_pin_universe.plot(width=(2.5, 2.5), colors = {fuel_cell: 'orange', gap_cell: 'white', clad_cell: 'grey', fwater_cell: 'blue'})"
   ]
  },
  {
   "cell_type": "code",
   "execution_count": 56,
   "metadata": {},
   "outputs": [],
   "source": [
    "# Geometry definitions for the water rod\n",
    "\n",
    "water_or = openmc.ZCylinder(r=1.34874/2)\n",
    "wclad_or = openmc.ZCylinder(r=1.50114/2)\n",
    "\n",
    "wwater_inner_region = -water_or\n",
    "wclad_region = -wclad_or & +water_or \n",
    "wwater_outer_region = pin_cell_box & +wclad_or\n",
    "\n",
    "wwater_inner_cell = openmc.Cell(name='wwater_inner')\n",
    "wwater_inner_cell.region = wwater_inner_region\n",
    "wwater_inner_cell.fill = water\n",
    "\n",
    "wclad_cell = openmc.Cell(name='wclad')\n",
    "wclad_cell.fill = zircaloy\n",
    "wclad_cell.region = wclad_region \n",
    "\n",
    "wwater_outer_cell = openmc.Cell(name='wwater_outer')\n",
    "wwater_outer_cell.fill = water\n",
    "wwater_outer_cell.region = wwater_outer_region\n",
    "\n",
    "water_pin_universe = openmc.Universe(cells=[wwater_inner_cell, wclad_cell, wwater_outer_cell])"
   ]
  },
  {
   "cell_type": "code",
   "execution_count": 57,
   "metadata": {
    "colab": {
     "base_uri": "https://localhost:8080/",
     "height": 282
    },
    "id": "FklxPQ-1xvNs",
    "outputId": "9e4cb490-0ba5-4838-9f47-0442493b9f6d"
   },
   "outputs": [],
   "source": [
    "# Geometry definitions for the corner rod\n",
    "\n",
    "corner_fuel_or = openmc.ZCylinder(r=1.0414/2, name = 'Corner Cell: Fuel OR')\n",
    "corner_clad_ir = openmc.ZCylinder(r=1.06426/2, name = 'Corner Cell: Clad IR')\n",
    "corner_clad_or = openmc.ZCylinder(r=1.22682/2, name = 'Corner Cell: Clad OR')\n",
    "\n",
    "corner_fuel_cell = openmc.Cell(name='fuel')\n",
    "corner_fuel_cell.fill = uo2\n",
    "corner_fuel_cell.region = -corner_fuel_or \n",
    "\n",
    "corner_gap_cell = openmc.Cell(name='air gap')\n",
    "corner_gap_cell.region = -corner_clad_ir & +corner_fuel_or\n",
    "\n",
    "corner_clad_cell = openmc.Cell(name='clad')\n",
    "corner_clad_cell.fill = zircaloy\n",
    "corner_clad_cell.region = +corner_clad_ir & -corner_clad_or"
   ]
  },
  {
   "cell_type": "code",
   "execution_count": 58,
   "metadata": {},
   "outputs": [],
   "source": [
    "# Defining an Assembly"
   ]
  },
  {
   "cell_type": "code",
   "execution_count": 59,
   "metadata": {},
   "outputs": [],
   "source": [
    "margin = 1e-8\n",
    "sleave_thickness = 0.2032\n",
    "sleave_inner_radius = 0.9652 + margin"
   ]
  },
  {
   "cell_type": "code",
   "execution_count": 60,
   "metadata": {
    "colab": {
     "base_uri": "https://localhost:8080/",
     "height": 282
    },
    "id": "FklxPQ-1xvNs",
    "outputId": "9e4cb490-0ba5-4838-9f47-0442493b9f6d"
   },
   "outputs": [],
   "source": [
    "ur_corner_fuel_or = openmc.ZCylinder(r=1.0414/2, name='ur Corner Cell: Fuel OR')\n",
    "ur_corner_clad_ir = openmc.ZCylinder(r=1.06426/2, name='ur Corner Cell: Clad IR')\n",
    "ur_corner_clad_or = openmc.ZCylinder(r=1.22682/2, name='ur Corner Cell: Clad OR')\n",
    "\n",
    "ur_corner_fuel_cell = openmc.Cell(name='ur fuel')\n",
    "ur_corner_fuel_cell.fill = uo2\n",
    "ur_corner_fuel_cell.region = -ur_corner_fuel_or \n",
    "\n",
    "ur_corner_gap_cell = openmc.Cell(name='ul air gap')\n",
    "ur_corner_gap_cell.region = -ur_corner_clad_ir & +ur_corner_fuel_or\n",
    "\n",
    "ur_corner_clad_cell = openmc.Cell(name='ul clad')\n",
    "ur_corner_clad_cell.fill = zircaloy\n",
    "ur_corner_clad_cell.region = +ur_corner_clad_ir & -ur_corner_clad_or\n",
    "\n",
    "ur_sleave_ir = openmc.ZCylinder(x0=pitch/2-sleave_inner_radius-margin, y0=pitch/2-sleave_inner_radius+margin, r=sleave_inner_radius)\n",
    "ur_sleave_or = openmc.ZCylinder(x0=pitch/2-sleave_inner_radius-margin, y0=pitch/2-sleave_inner_radius+margin, r=sleave_inner_radius+sleave_thickness)\n",
    "\n",
    "ur_sleave_hor_bound = openmc.XPlane(x0=pitch/2 - sleave_inner_radius - margin)\n",
    "ur_sleave_ver_bound = openmc.YPlane(y0=pitch/2 - sleave_inner_radius + margin)\n",
    "\n",
    "ur_sleave_cell = openmc.Cell(name='ur sleave cell')\n",
    "ur_sleave_cell.region = -ur_sleave_or & +ur_sleave_ir & +ur_sleave_hor_bound & +ur_sleave_ver_bound & pin_cell_box\n",
    "ur_sleave_cell.fill = zircaloy\n",
    "\n",
    "ur_sleave_water_cell = openmc.Cell(name = 'ur sleave water')\n",
    "ur_sleave_water_cell.region = pin_cell_box & +ur_sleave_hor_bound & +ur_sleave_ver_bound & +ur_sleave_or\n",
    "ur_sleave_water_cell.fill = water\n",
    "\n",
    "ur_sleave_ver_water_cell = openmc.Cell(name='ur vertically-equivalent sleave water')\n",
    "ur_sleave_ver_water_cell.region = pin_cell_box & -ur_sleave_hor_bound & +ur_sleave_ver_bound & +ur_sleave_ir\n",
    "ur_sleave_ver_water_cell.fill = water \n",
    "\n",
    "ur_opposite_water_cell = openmc.Cell(name='ur opposite water')\n",
    "ur_opposite_water_cell.region = pin_cell_box & -ur_sleave_hor_bound & -ur_sleave_ver_bound & +ur_sleave_ir\n",
    "ur_opposite_water_cell.fill = water \n",
    "\n",
    "ur_sleave_hor_water_cell = openmc.Cell(name='ur horizontally-equivalent sleave water')\n",
    "ur_sleave_hor_water_cell.region = pin_cell_box & +ur_sleave_hor_bound & -ur_sleave_ver_bound & +ur_sleave_ir\n",
    "ur_sleave_hor_water_cell.fill = water \n",
    "\n",
    "ur_inner_water_cell = openmc.Cell(name='ur inner water cell')\n",
    "ur_inner_water_cell.region = pin_cell_box & -ur_sleave_ir & +ur_corner_clad_or\n",
    "ur_inner_water_cell.fill = water\n",
    "\n",
    "ur_corner_pin_universe = openmc.Universe(cells=[ur_corner_fuel_cell, ur_corner_gap_cell, ur_corner_clad_cell, ur_sleave_cell, ur_inner_water_cell, ur_sleave_water_cell, ur_sleave_ver_water_cell, ur_opposite_water_cell, ur_sleave_hor_water_cell])"
   ]
  },
  {
   "cell_type": "code",
   "execution_count": 61,
   "metadata": {},
   "outputs": [
    {
     "data": {
      "text/plain": [
       "<Axes: xlabel='x [cm]', ylabel='y [cm]'>"
      ]
     },
     "execution_count": 61,
     "metadata": {},
     "output_type": "execute_result"
    },
    {
     "data": {
      "image/png": "[encoded data removed]",
      "text/plain": [
       "<Figure size 258.065x259.74 with 1 Axes>"
      ]
     },
     "metadata": {},
     "output_type": "display_data"
    }
   ],
   "source": [
    "ur_corner_pin_universe.plot(width=(2.5, 2.5), basis = 'xy', colors = {ur_corner_fuel_cell: 'orange', ur_corner_gap_cell: 'white', ur_corner_clad_cell: 'grey', ur_sleave_cell:'brown', ur_inner_water_cell: 'blue', ur_sleave_water_cell: 'blue', ur_sleave_ver_water_cell: 'blue', ur_opposite_water_cell: 'blue', ur_sleave_hor_water_cell: 'blue'})"
   ]
  },
  {
   "cell_type": "code",
   "execution_count": 62,
   "metadata": {
    "scrolled": true
   },
   "outputs": [],
   "source": [
    "ul_corner_fuel_or = openmc.ZCylinder(r=(1.0414/2), name='ul Corner Cell: Fuel OR')\n",
    "ul_corner_clad_ir = openmc.ZCylinder(r=(1.06426/2), name='ul Corner Cell: Clad IR')\n",
    "ul_corner_clad_or = openmc.ZCylinder(r=(1.22682/2), name='ul Corner Cell: Clad OR')\n",
    "\n",
    "ul_corner_fuel_cell = openmc.Cell(name='ul fuel')\n",
    "ul_corner_fuel_cell.fill = uo2\n",
    "ul_corner_fuel_cell.region = -ul_corner_fuel_or \n",
    "\n",
    "ul_corner_gap_cell = openmc.Cell(name='ul air gap')\n",
    "ul_corner_gap_cell.region = -ul_corner_clad_ir & +ul_corner_fuel_or\n",
    "\n",
    "ul_corner_clad_cell = openmc.Cell(name='ul clad')\n",
    "ul_corner_clad_cell.fill = zircaloy\n",
    "ul_corner_clad_cell.region = +ul_corner_clad_ir & -ul_corner_clad_or\n",
    "\n",
    "ul_sleave_ir = openmc.ZCylinder(x0=-pitch/2+sleave_inner_radius+margin, y0=pitch/2-sleave_inner_radius+margin, r=sleave_inner_radius) #Shouldn't have margin\n",
    "ul_sleave_or = openmc.ZCylinder(x0=-pitch/2+sleave_inner_radius+margin, y0=pitch/2-sleave_inner_radius+margin, r=sleave_inner_radius + sleave_thickness)\n",
    "\n",
    "ul_sleave_hor_bound = openmc.XPlane(x0=-pitch/2+sleave_inner_radius+margin)\n",
    "ul_sleave_ver_bound = openmc.YPlane(y0=pitch/2-sleave_inner_radius+margin)\n",
    "\n",
    "ul_sleave_cell = openmc.Cell(name='ul sleave cell')\n",
    "ul_sleave_cell.region = -ul_sleave_or & +ul_sleave_ir & -ul_sleave_hor_bound & +ul_sleave_ver_bound & pin_cell_box\n",
    "ul_sleave_cell.fill = zircaloy\n",
    "\n",
    "ul_sleave_water_cell = openmc.Cell(name='ul sleave water')\n",
    "ul_sleave_water_cell.region = pin_cell_box & -ul_sleave_hor_bound & +ul_sleave_ver_bound & +ul_sleave_or\n",
    "ul_sleave_water_cell.fill = water\n",
    "\n",
    "ul_sleave_ver_water_cell = openmc.Cell(name='ul vertically-equivalent sleave water')\n",
    "ul_sleave_ver_water_cell.region = pin_cell_box & +ul_sleave_hor_bound & +ul_sleave_ver_bound & +ul_sleave_ir\n",
    "ul_sleave_ver_water_cell.fill = water \n",
    "\n",
    "ul_opposite_water_cell = openmc.Cell(name='ul opposite water')\n",
    "ul_opposite_water_cell.region = pin_cell_box & +ul_sleave_hor_bound & -ul_sleave_ver_bound & +ul_sleave_ir\n",
    "ul_opposite_water_cell.fill = water \n",
    "\n",
    "ul_sleave_hor_water_cell = openmc.Cell(name='ul horizontally-equivalent sleave water')\n",
    "ul_sleave_hor_water_cell.region = pin_cell_box & -ul_sleave_hor_bound & -ul_sleave_ver_bound & +ul_sleave_ir\n",
    "ul_sleave_hor_water_cell.fill = water \n",
    "\n",
    "ul_inner_water_cell = openmc.Cell(name='ul inner water cell')\n",
    "ul_inner_water_cell.region = pin_cell_box & -ul_sleave_ir & +ul_corner_clad_or\n",
    "ul_inner_water_cell.fill = water\n",
    "\n",
    "ul_corner_pin_universe = openmc.Universe(cells=[ul_corner_fuel_cell, ul_corner_gap_cell, ul_corner_clad_cell, ul_sleave_cell, ul_inner_water_cell, ul_sleave_water_cell, ul_sleave_ver_water_cell, ul_opposite_water_cell, ul_sleave_hor_water_cell])"
   ]
  },
  {
   "cell_type": "code",
   "execution_count": 63,
   "metadata": {},
   "outputs": [
    {
     "data": {
      "text/plain": [
       "<Axes: xlabel='x [cm]', ylabel='y [cm]'>"
      ]
     },
     "execution_count": 63,
     "metadata": {},
     "output_type": "execute_result"
    },
    {
     "data": {
      "image/png": "[encoded data removed]",
      "text/plain": [
       "<Figure size 258.065x259.74 with 1 Axes>"
      ]
     },
     "metadata": {},
     "output_type": "display_data"
    }
   ],
   "source": [
    "ul_corner_pin_universe.plot(width=(2.5, 2.5), basis = 'xy', colors = {ul_corner_fuel_cell: 'orange', ul_corner_gap_cell: 'white', ul_corner_clad_cell: 'grey', ul_sleave_cell:'brown', ul_inner_water_cell: 'blue', ul_sleave_water_cell: 'blue', ul_sleave_ver_water_cell: 'blue', ul_opposite_water_cell: 'blue', ul_sleave_hor_water_cell: 'blue'})"
   ]
  },
  {
   "cell_type": "code",
   "execution_count": 64,
   "metadata": {},
   "outputs": [],
   "source": [
    "ll_corner_fuel_or = openmc.ZCylinder(r=1.0414/2, name='ll Corner Cell: Fuel OR')\n",
    "ll_corner_clad_ir = openmc.ZCylinder(r=1.06426/2, name='ll Corner Cell: Clad IR')\n",
    "ll_corner_clad_or = openmc.ZCylinder(r=1.22682/2, name='ll Corner Cell: Clad OR')\n",
    "\n",
    "ll_corner_fuel_cell = openmc.Cell(name='ll fuel')\n",
    "ll_corner_fuel_cell.fill = uo2\n",
    "ll_corner_fuel_cell.region = -ll_corner_fuel_or \n",
    "\n",
    "ll_corner_gap_cell = openmc.Cell(name='ll air gap')\n",
    "ll_corner_gap_cell.region = -ll_corner_clad_ir & +ll_corner_fuel_or\n",
    "\n",
    "ll_corner_clad_cell = openmc.Cell(name='ll clad')\n",
    "ll_corner_clad_cell.fill = zircaloy\n",
    "ll_corner_clad_cell.region = +ll_corner_clad_ir & -ll_corner_clad_or\n",
    "\n",
    "ll_sleave_ir = openmc.ZCylinder(x0=-pitch/2+sleave_inner_radius+margin, y0=-pitch/2+sleave_inner_radius-margin, r=sleave_inner_radius)\n",
    "ll_sleave_or = openmc.ZCylinder(x0=-pitch/2+sleave_inner_radius+margin, y0=-pitch/2+sleave_inner_radius-margin, r=sleave_inner_radius+sleave_thickness)\n",
    "\n",
    "ll_sleave_hor_bound = openmc.XPlane(x0=-pitch/2+sleave_inner_radius+margin)\n",
    "ll_sleave_ver_bound = openmc.YPlane(y0=-pitch/2+sleave_inner_radius-margin)\n",
    "\n",
    "ll_sleave_cell = openmc.Cell(name='ul sleave cell')\n",
    "ll_sleave_cell.region = -ll_sleave_or & +ll_sleave_ir & -ll_sleave_hor_bound & -ll_sleave_ver_bound & pin_cell_box\n",
    "ll_sleave_cell.fill = zircaloy\n",
    "\n",
    "ll_sleave_water_cell = openmc.Cell(name='ul sleave water')\n",
    "ll_sleave_water_cell.region = pin_cell_box & -ll_sleave_hor_bound & -ll_sleave_ver_bound & +ll_sleave_or\n",
    "ll_sleave_water_cell.fill = water\n",
    "\n",
    "ll_sleave_ver_water_cell = openmc.Cell(name='ul vertically-equivalent sleave water')\n",
    "ll_sleave_ver_water_cell.region = pin_cell_box & +ll_sleave_hor_bound & -ll_sleave_ver_bound & +ll_sleave_ir\n",
    "ll_sleave_ver_water_cell.fill = water \n",
    "\n",
    "ll_opposite_water_cell = openmc.Cell(name='ul opposite water')\n",
    "ll_opposite_water_cell.region = pin_cell_box & +ll_sleave_hor_bound & +ll_sleave_ver_bound & +ll_sleave_ir\n",
    "ll_opposite_water_cell.fill = water \n",
    "\n",
    "ll_sleave_hor_water_cell = openmc.Cell(name='ul horizontally-equivalent sleave water')\n",
    "ll_sleave_hor_water_cell.region = pin_cell_box & -ll_sleave_hor_bound & +ll_sleave_ver_bound & +ll_sleave_ir\n",
    "ll_sleave_hor_water_cell.fill = water \n",
    "\n",
    "ll_inner_water_cell = openmc.Cell(name='ul inner water cell')\n",
    "ll_inner_water_cell.region = pin_cell_box & -ll_sleave_ir & +ll_corner_clad_or\n",
    "ll_inner_water_cell.fill = water\n",
    "\n",
    "ll_corner_pin_universe = openmc.Universe(cells=[ll_corner_fuel_cell, ll_corner_gap_cell, ll_corner_clad_cell, ll_sleave_cell, ll_inner_water_cell, ll_sleave_water_cell, ll_sleave_ver_water_cell, ll_opposite_water_cell, ll_sleave_hor_water_cell])"
   ]
  },
  {
   "cell_type": "code",
   "execution_count": 65,
   "metadata": {},
   "outputs": [
    {
     "data": {
      "text/plain": [
       "<Axes: xlabel='x [cm]', ylabel='y [cm]'>"
      ]
     },
     "execution_count": 65,
     "metadata": {},
     "output_type": "execute_result"
    },
    {
     "data": {
      "image/png": "[encoded data removed]",
      "text/plain": [
       "<Figure size 258.065x259.74 with 1 Axes>"
      ]
     },
     "metadata": {},
     "output_type": "display_data"
    }
   ],
   "source": [
    "ll_corner_pin_universe.plot(width=(2.5, 2.5), basis = 'xy', colors = {ll_corner_fuel_cell: 'orange', ll_corner_gap_cell: 'white', ll_corner_clad_cell: 'grey', ll_sleave_cell:'brown', ll_inner_water_cell: 'blue', ll_sleave_water_cell: 'blue', ll_sleave_ver_water_cell: 'blue', ll_opposite_water_cell: 'blue', ll_sleave_hor_water_cell: 'blue'})"
   ]
  },
  {
   "cell_type": "code",
   "execution_count": 66,
   "metadata": {},
   "outputs": [],
   "source": [
    "lr_corner_fuel_or = openmc.ZCylinder(r=1.0414/2, name='lr Corner Cell: Fuel OR')\n",
    "lr_corner_clad_ir = openmc.ZCylinder(r=1.06426/2, name='lr Corner Cell: Clad IR')\n",
    "lr_corner_clad_or = openmc.ZCylinder(r=1.22682/2, name='lr Corner Cell: Clad OR')\n",
    "\n",
    "lr_corner_fuel_cell = openmc.Cell(name='lr fuel')\n",
    "lr_corner_fuel_cell.fill = uo2\n",
    "lr_corner_fuel_cell.region = -lr_corner_fuel_or \n",
    "\n",
    "lr_corner_gap_cell = openmc.Cell(name='lr air gap')\n",
    "lr_corner_gap_cell.region = -lr_corner_clad_ir & +lr_corner_fuel_or\n",
    "\n",
    "lr_corner_clad_cell = openmc.Cell(name='lr clad')\n",
    "lr_corner_clad_cell.fill = zircaloy\n",
    "lr_corner_clad_cell.region = +lr_corner_clad_ir & -lr_corner_clad_or\n",
    "\n",
    "lr_sleave_ir = openmc.ZCylinder(x0=pitch/2-sleave_inner_radius-margin, y0=-pitch/2+sleave_inner_radius-margin, r=sleave_inner_radius)\n",
    "lr_sleave_or = openmc.ZCylinder(x0=pitch/2-sleave_inner_radius-margin, y0=-pitch/2+sleave_inner_radius-margin, r=sleave_inner_radius+sleave_thickness)\n",
    "\n",
    "lr_sleave_hor_bound = openmc.XPlane(x0=pitch/2 - sleave_inner_radius - margin)\n",
    "lr_sleave_ver_bound = openmc.YPlane(y0=-pitch/2 + sleave_inner_radius - margin)\n",
    "\n",
    "lr_sleave_cell = openmc.Cell(name='ur sleave cell')\n",
    "lr_sleave_cell.region = -lr_sleave_or & +lr_sleave_ir & +lr_sleave_hor_bound & -lr_sleave_ver_bound & pin_cell_box\n",
    "lr_sleave_cell.fill = zircaloy\n",
    "\n",
    "lr_sleave_water_cell = openmc.Cell(name='ur sleave water')\n",
    "lr_sleave_water_cell.region = pin_cell_box & +lr_sleave_hor_bound & -lr_sleave_ver_bound & +lr_sleave_or\n",
    "lr_sleave_water_cell.fill = water\n",
    "\n",
    "lr_sleave_ver_water_cell = openmc.Cell(name='ur vertically-equivalent sleave water')\n",
    "lr_sleave_ver_water_cell.region = pin_cell_box & -lr_sleave_hor_bound & -lr_sleave_ver_bound & +lr_sleave_ir\n",
    "lr_sleave_ver_water_cell.fill = water \n",
    "\n",
    "lr_opposite_water_cell = openmc.Cell(name='ur opposite water')\n",
    "lr_opposite_water_cell.region = pin_cell_box & -lr_sleave_hor_bound & +lr_sleave_ver_bound & +lr_sleave_ir\n",
    "lr_opposite_water_cell.fill = water \n",
    "\n",
    "lr_sleave_hor_water_cell = openmc.Cell(name='ur horizontally-equivalent sleave water')\n",
    "lr_sleave_hor_water_cell.region = pin_cell_box & +lr_sleave_hor_bound & +lr_sleave_ver_bound & +lr_sleave_ir\n",
    "lr_sleave_hor_water_cell.fill = water \n",
    "\n",
    "lr_inner_water_cell = openmc.Cell(name='ur inner water cell')\n",
    "lr_inner_water_cell.region = pin_cell_box & -lr_sleave_ir & +lr_corner_clad_or\n",
    "lr_inner_water_cell.fill = water\n",
    "\n",
    "lr_corner_pin_universe = openmc.Universe(cells=[lr_corner_fuel_cell, lr_corner_gap_cell, lr_corner_clad_cell, lr_sleave_cell, lr_inner_water_cell, lr_sleave_water_cell, lr_sleave_ver_water_cell, lr_opposite_water_cell, lr_sleave_hor_water_cell])"
   ]
  },
  {
   "cell_type": "code",
   "execution_count": 67,
   "metadata": {},
   "outputs": [
    {
     "data": {
      "text/plain": [
       "<Axes: xlabel='x [cm]', ylabel='y [cm]'>"
      ]
     },
     "execution_count": 67,
     "metadata": {},
     "output_type": "execute_result"
    },
    {
     "data": {
      "image/png": "[encoded data removed]",
      "text/plain": [
       "<Figure size 258.065x259.74 with 1 Axes>"
      ]
     },
     "metadata": {},
     "output_type": "display_data"
    }
   ],
   "source": [
    "lr_corner_pin_universe.plot(width=(2.5, 2.5), basis = 'xy', colors = {lr_corner_fuel_cell: 'orange', lr_corner_gap_cell: 'white', lr_corner_clad_cell: 'grey', lr_sleave_cell:'brown', lr_inner_water_cell: 'blue', lr_sleave_water_cell: 'blue', lr_sleave_ver_water_cell: 'blue', lr_opposite_water_cell: 'blue', lr_sleave_hor_water_cell: 'blue'})"
   ]
  },
  {
   "cell_type": "code",
   "execution_count": 68,
   "metadata": {},
   "outputs": [
    {
     "name": "stderr",
     "output_type": "stream",
     "text": [
      "/home/sebas/miniconda3/envs/openmc-env/lib/python3.12/site-packages/openmc/model/funcs.py:114: FutureWarning: The rectangular_prism(...) function has been replaced by the RectangularPrism(...) class. Future versions of OpenMC will not accept rectangular_prism.\n",
      "  warn(\"The rectangular_prism(...) function has been replaced by the \"\n"
     ]
    }
   ],
   "source": [
    "quarter_pitch = pitch * 8\n",
    "\n",
    "assembly = openmc.RectLattice(name='Quarter Assembly')\n",
    "assembly.pitch = (pitch, pitch)\n",
    "assembly.lower_left = [-quarter_pitch/2, -quarter_pitch/2]\n",
    "\n",
    "assembly.universes = [\n",
    "                      [ul_corner_pin_universe, fuel_pin_universe, fuel_pin_universe, fuel_pin_universe, fuel_pin_universe, fuel_pin_universe, fuel_pin_universe, ur_corner_pin_universe],\n",
    "                      [fuel_pin_universe, fuel_pin_universe, fuel_pin_universe, fuel_pin_universe, fuel_pin_universe, fuel_pin_universe, fuel_pin_universe, fuel_pin_universe],\n",
    "                      [fuel_pin_universe, fuel_pin_universe, fuel_pin_universe, fuel_pin_universe, fuel_pin_universe, fuel_pin_universe, fuel_pin_universe, fuel_pin_universe],\n",
    "                      [fuel_pin_universe, fuel_pin_universe, fuel_pin_universe, water_pin_universe, fuel_pin_universe, fuel_pin_universe, fuel_pin_universe, fuel_pin_universe],\n",
    "                      [fuel_pin_universe, fuel_pin_universe, fuel_pin_universe, fuel_pin_universe, water_pin_universe, fuel_pin_universe, fuel_pin_universe, fuel_pin_universe],\n",
    "                      [fuel_pin_universe, fuel_pin_universe, fuel_pin_universe, fuel_pin_universe, fuel_pin_universe, fuel_pin_universe, fuel_pin_universe, fuel_pin_universe],\n",
    "                      [fuel_pin_universe, fuel_pin_universe, fuel_pin_universe, fuel_pin_universe, fuel_pin_universe, fuel_pin_universe, fuel_pin_universe, fuel_pin_universe],\n",
    "                      [ll_corner_pin_universe, fuel_pin_universe, fuel_pin_universe, fuel_pin_universe, fuel_pin_universe, fuel_pin_universe, fuel_pin_universe, lr_corner_pin_universe]\n",
    "]\n",
    "\n",
    "assembly_region = openmc.model.rectangular_prism(width=quarter_pitch, height=quarter_pitch, origin=(0,0))\n",
    "assembly_cell = openmc.Cell(name='quarter assembly cell', fill=assembly, region=assembly_region)\n",
    "\n",
    "assembly_sleave = openmc.Cell(name='quarter assembly sleave')\n",
    "assembly_sleave.region = openmc.model.rectangular_prism(width=quarter_pitch+2*sleave_thickness, height=quarter_pitch+2*sleave_thickness, corner_radius=sleave_inner_radius+sleave_thickness) & ~assembly_cell.region\n",
    "assembly_sleave.fill = zircaloy\n",
    "\n",
    "assembly_outer_water = openmc.Cell(name='assembly outer water')\n",
    "assembly_outer_water.region = ~assembly_sleave.region & ~assembly_cell.region & openmc.model.rectangular_prism(width=quarter_pitch+2*sleave_thickness+1, height=quarter_pitch+2*sleave_thickness+1, boundary_type='reflective')\n",
    "assembly_outer_water.fill = water\n",
    "\n",
    "quarter_assembly_universe = openmc.Universe(cells=[assembly_cell, assembly_sleave, assembly_outer_water])"
   ]
  },
  {
   "cell_type": "code",
   "execution_count": 69,
   "metadata": {},
   "outputs": [
    {
     "data": {
      "text/plain": [
       "<Axes: xlabel='x [cm]', ylabel='y [cm]'>"
      ]
     },
     "execution_count": 69,
     "metadata": {},
     "output_type": "execute_result"
    },
    {
     "data": {
      "image/png": "[encoded data removed]",
      "text/plain": [
       "<Figure size 258.065x259.74 with 1 Axes>"
      ]
     },
     "metadata": {},
     "output_type": "display_data"
    }
   ],
   "source": [
    "quarter_assembly_universe.plot(width=(15,15), colors={assembly_outer_water: 'blue'})"
   ]
  },
  {
   "cell_type": "code",
   "execution_count": 70,
   "metadata": {},
   "outputs": [],
   "source": [
    "geom = openmc.Geometry(quarter_assembly_universe)\n",
    "geom.export_to_xml()"
   ]
  },
  {
   "cell_type": "code",
   "execution_count": 76,
   "metadata": {
    "colab": {
     "base_uri": "https://localhost:8080/"
    },
    "id": "JPOk4874OR3w",
    "outputId": "b15d56c2-f9a1-42c4-b06f-3e779a1953ec"
   },
   "outputs": [
    {
     "name": "stderr",
     "output_type": "stream",
     "text": [
      "/home/sebas/miniconda3/envs/openmc-env/lib/python3.12/site-packages/openmc/source.py:656: FutureWarning: This class is deprecated in favor of 'IndependentSource'\n",
      "  warnings.warn(\"This class is deprecated in favor of 'IndependentSource'\", FutureWarning)\n"
     ]
    }
   ],
   "source": [
    "# OpenMC simulation parameters\n",
    "\n",
    "random_seed = random.randint(1, 10**6)\n",
    "\n",
    "vox_plot = openmc.Plot()\n",
    "vox_plot.type = 'voxel'\n",
    "vox_plot.width = (100., 100., 50.)\n",
    "vox_plot.pixels = (400, 400, 200)\n",
    "\n",
    "tallies = openmc.Tallies()\n",
    "\n",
    "mesh = openmc.RegularMesh()\n",
    "mesh.dimension = [100, 100, 100]\n",
    "mesh.lower_left = [-50, -50, -50]\n",
    "mesh.upper_right = [50, 50, 50]\n",
    "\n",
    "# Create mesh filter\n",
    "mesh_filter = openmc.MeshFilter(mesh)\n",
    "\n",
    "# Define a neutron flux tally\n",
    "flux_tally = openmc.Tally(name='neutron_flux')\n",
    "flux_tally.filters = [mesh_filter]\n",
    "flux_tally.scores = ['flux']\n",
    "\n",
    "tallies.append(flux_tally)\n",
    "\n",
    "# Define power distribution tally (based on fission reaction rate)\n",
    "power_tally = openmc.Tally(name='power_distribution')\n",
    "power_tally.filters = [mesh_filter]\n",
    "power_tally.scores = ['fission']\n",
    "\n",
    "tallies.append(power_tally)\n",
    "\n",
    "point = openmc.stats.Point((0, 0, 0))\n",
    "plots = openmc.Plots([vox_plot])\n",
    "src = openmc.Source(space=point)\n",
    "settings = openmc.Settings()\n",
    "settings.seed = random_seed\n",
    "settings.source = src\n",
    "settings.batches = 100\n",
    "settings.inactive = 10\n",
    "settings.particles = 1000\n",
    "\n",
    "tallies.export_to_xml()\n",
    "settings.export_to_xml()\n",
    "plots.export_to_xml()"
   ]
  },
  {
   "cell_type": "code",
   "execution_count": 77,
   "metadata": {
    "colab": {
     "base_uri": "https://localhost:8080/"
    },
    "id": "lkX_1LrAzw71",
    "outputId": "6331f2a0-42fc-4919-91d3-7bca6b5d735f"
   },
   "outputs": [
    {
     "name": "stdout",
     "output_type": "stream",
     "text": [
      "[sebastian-TUF-Gaming-FX505GT:15489] shmem: mmap: an error occurred while determining whether or not /tmp/ompi.sebastian-TUF-Gaming-FX505GT.1000/jf.0/2625044480/shared_mem_cuda_pool.sebastian-TUF-Gaming-FX505GT could be created.\n",
      "[sebastian-TUF-Gaming-FX505GT:15489] create_and_attach: unable to create shared memory BTL coordinating structure :: size 134217728 \n",
      "                                %%%%%%%%%%%%%%%\n",
      "                           %%%%%%%%%%%%%%%%%%%%%%%%\n",
      "                        %%%%%%%%%%%%%%%%%%%%%%%%%%%%%%\n",
      "                      %%%%%%%%%%%%%%%%%%%%%%%%%%%%%%%%%%\n",
      "                    %%%%%%%%%%%%%%%%%%%%%%%%%%%%%%%%%%%%%%\n",
      "                   %%%%%%%%%%%%%%%%%%%%%%%%%%%%%%%%%%%%%%%%\n",
      "                                    %%%%%%%%%%%%%%%%%%%%%%%%\n",
      "                                     %%%%%%%%%%%%%%%%%%%%%%%%\n",
      "                 ###############      %%%%%%%%%%%%%%%%%%%%%%%%\n",
      "                ##################     %%%%%%%%%%%%%%%%%%%%%%%\n",
      "                ###################     %%%%%%%%%%%%%%%%%%%%%%%\n",
      "                ####################     %%%%%%%%%%%%%%%%%%%%%%\n",
      "                #####################     %%%%%%%%%%%%%%%%%%%%%\n",
      "                ######################     %%%%%%%%%%%%%%%%%%%%\n",
      "                #######################     %%%%%%%%%%%%%%%%%%\n",
      "                 #######################     %%%%%%%%%%%%%%%%%\n",
      "                 ######################     %%%%%%%%%%%%%%%%%\n",
      "                  ####################     %%%%%%%%%%%%%%%%%\n",
      "                    #################     %%%%%%%%%%%%%%%%%\n",
      "                     ###############     %%%%%%%%%%%%%%%%\n",
      "                       ############     %%%%%%%%%%%%%%%\n",
      "                          ########     %%%%%%%%%%%%%%\n",
      "                                      %%%%%%%%%%%\n",
      "\n",
      "                 | The OpenMC Monte Carlo Code\n",
      "       Copyright | 2011-2024 MIT, UChicago Argonne LLC, and contributors\n",
      "         License | https://docs.openmc.org/en/latest/license.html\n",
      "         Version | 0.15.0\n",
      "        Git SHA1 | 84fb85977f46e162fea8f5a20ea653a3ec62ac24\n",
      "       Date/Time | 2024-09-25 19:19:45\n",
      "   MPI Processes | 1\n",
      "  OpenMP Threads | 12\n",
      "\n",
      " Reading settings XML file...\n",
      " Reading cross sections XML file...\n",
      " Reading materials XML file...\n",
      " Reading geometry XML file...\n",
      " Reading U234 from\n",
      " /home/sebas/Documents/Code/jupyter/endfb-viii.0-hdf5/neutron/U234.h5\n",
      " Reading U235 from\n",
      " /home/sebas/Documents/Code/jupyter/endfb-viii.0-hdf5/neutron/U235.h5\n",
      " Reading U238 from\n",
      " /home/sebas/Documents/Code/jupyter/endfb-viii.0-hdf5/neutron/U238.h5\n",
      " Reading U236 from\n",
      " /home/sebas/Documents/Code/jupyter/endfb-viii.0-hdf5/neutron/U236.h5\n",
      " Reading O16 from\n",
      " /home/sebas/Documents/Code/jupyter/endfb-viii.0-hdf5/neutron/O16.h5\n",
      " Reading O17 from\n",
      " /home/sebas/Documents/Code/jupyter/endfb-viii.0-hdf5/neutron/O17.h5\n",
      " Reading O18 from\n",
      " /home/sebas/Documents/Code/jupyter/endfb-viii.0-hdf5/neutron/O18.h5\n",
      " Reading Zr90 from\n",
      " /home/sebas/Documents/Code/jupyter/endfb-viii.0-hdf5/neutron/Zr90.h5\n",
      " Reading C12 from\n",
      " /home/sebas/Documents/Code/jupyter/endfb-viii.0-hdf5/neutron/C12.h5\n",
      " Reading C13 from\n",
      " /home/sebas/Documents/Code/jupyter/endfb-viii.0-hdf5/neutron/C13.h5\n",
      " Reading Si28 from\n",
      " /home/sebas/Documents/Code/jupyter/endfb-viii.0-hdf5/neutron/Si28.h5\n",
      " Reading Si29 from\n",
      " /home/sebas/Documents/Code/jupyter/endfb-viii.0-hdf5/neutron/Si29.h5\n",
      " Reading Si30 from\n",
      " /home/sebas/Documents/Code/jupyter/endfb-viii.0-hdf5/neutron/Si30.h5\n",
      " Reading Mn55 from\n",
      " /home/sebas/Documents/Code/jupyter/endfb-viii.0-hdf5/neutron/Mn55.h5\n",
      " Reading P31 from\n",
      " /home/sebas/Documents/Code/jupyter/endfb-viii.0-hdf5/neutron/P31.h5\n",
      " Reading S32 from\n",
      " /home/sebas/Documents/Code/jupyter/endfb-viii.0-hdf5/neutron/S32.h5\n",
      " Reading S33 from\n",
      " /home/sebas/Documents/Code/jupyter/endfb-viii.0-hdf5/neutron/S33.h5\n",
      " Reading S34 from\n",
      " /home/sebas/Documents/Code/jupyter/endfb-viii.0-hdf5/neutron/S34.h5\n",
      " Reading S36 from\n",
      " /home/sebas/Documents/Code/jupyter/endfb-viii.0-hdf5/neutron/S36.h5\n",
      " Reading Cr50 from\n",
      " /home/sebas/Documents/Code/jupyter/endfb-viii.0-hdf5/neutron/Cr50.h5\n",
      " Reading Cr52 from\n",
      " /home/sebas/Documents/Code/jupyter/endfb-viii.0-hdf5/neutron/Cr52.h5\n",
      " Reading Cr53 from\n",
      " /home/sebas/Documents/Code/jupyter/endfb-viii.0-hdf5/neutron/Cr53.h5\n",
      " Reading Cr54 from\n",
      " /home/sebas/Documents/Code/jupyter/endfb-viii.0-hdf5/neutron/Cr54.h5\n",
      " Reading Ni58 from\n",
      " /home/sebas/Documents/Code/jupyter/endfb-viii.0-hdf5/neutron/Ni58.h5\n",
      " Reading Ni60 from\n",
      " /home/sebas/Documents/Code/jupyter/endfb-viii.0-hdf5/neutron/Ni60.h5\n",
      " Reading Ni61 from\n",
      " /home/sebas/Documents/Code/jupyter/endfb-viii.0-hdf5/neutron/Ni61.h5\n",
      " Reading Ni62 from\n",
      " /home/sebas/Documents/Code/jupyter/endfb-viii.0-hdf5/neutron/Ni62.h5\n",
      " Reading Ni64 from\n",
      " /home/sebas/Documents/Code/jupyter/endfb-viii.0-hdf5/neutron/Ni64.h5\n",
      " Reading Fe54 from\n",
      " /home/sebas/Documents/Code/jupyter/endfb-viii.0-hdf5/neutron/Fe54.h5\n",
      " Reading Fe56 from\n",
      " /home/sebas/Documents/Code/jupyter/endfb-viii.0-hdf5/neutron/Fe56.h5\n",
      " Reading Fe57 from\n",
      " /home/sebas/Documents/Code/jupyter/endfb-viii.0-hdf5/neutron/Fe57.h5\n",
      " Reading Fe58 from\n",
      " /home/sebas/Documents/Code/jupyter/endfb-viii.0-hdf5/neutron/Fe58.h5\n",
      " Reading H1 from\n",
      " /home/sebas/Documents/Code/jupyter/endfb-viii.0-hdf5/neutron/H1.h5\n",
      " Reading H2 from\n",
      " /home/sebas/Documents/Code/jupyter/endfb-viii.0-hdf5/neutron/H2.h5\n",
      " Reading c_H_in_H2O from\n",
      " /home/sebas/Documents/Code/jupyter/endfb-viii.0-hdf5/neutron/c_H_in_H2O.h5\n",
      " Minimum neutron data temperature: 250 K\n",
      " Maximum neutron data temperature: 2500 K\n",
      " Reading tallies XML file...\n",
      " Preparing distributed cell instances...\n",
      " Reading plot XML file...\n",
      " Writing summary.h5 file...\n",
      " Maximum neutron transport energy: 20000000 eV for O17\n",
      " Initializing source particles...\n",
      "\n",
      " ====================>     K EIGENVALUE SIMULATION     <====================\n",
      "\n",
      "  Bat./Gen.      k            Average k\n",
      "  =========   ========   ====================\n",
      "        1/1    1.20703\n",
      "        2/1    1.25655\n",
      "        3/1    1.23423\n",
      "        4/1    1.19110\n",
      "        5/1    1.19114\n",
      "        6/1    1.21797\n",
      "        7/1    1.15673\n",
      "        8/1    1.16681\n",
      "        9/1    1.13656\n",
      "       10/1    1.17925\n",
      "       11/1    1.19521\n",
      "       12/1    1.16427    1.17974 +/- 0.01547\n",
      "       13/1    1.30508    1.22152 +/- 0.04272\n",
      "       14/1    1.13091    1.19887 +/- 0.03776\n",
      "       15/1    1.14291    1.18768 +/- 0.03132\n",
      "       16/1    1.19533    1.18895 +/- 0.02560\n",
      "       17/1    1.16997    1.18624 +/- 0.02181\n",
      "       18/1    1.29108    1.19934 +/- 0.02299\n",
      "       19/1    1.21013    1.20054 +/- 0.02031\n",
      "       20/1    1.17943    1.19843 +/- 0.01829\n",
      "       21/1    1.19168    1.19782 +/- 0.01655\n",
      "       22/1    1.33223    1.20902 +/- 0.01881\n",
      "       23/1    1.24542    1.21182 +/- 0.01753\n",
      "       24/1    1.15711    1.20791 +/- 0.01669\n",
      "       25/1    1.25569    1.21110 +/- 0.01586\n",
      "       26/1    1.16094    1.20796 +/- 0.01516\n",
      "       27/1    1.15115    1.20462 +/- 0.01463\n",
      "       28/1    1.17911    1.20320 +/- 0.01387\n",
      "       29/1    1.22073    1.20412 +/- 0.01315\n",
      "       30/1    1.18825    1.20333 +/- 0.01250\n",
      "       31/1    1.19194    1.20279 +/- 0.01190\n",
      "       32/1    1.24320    1.20463 +/- 0.01150\n",
      "       33/1    1.25820    1.20696 +/- 0.01123\n",
      "       34/1    1.16672    1.20528 +/- 0.01088\n",
      "       35/1    1.21516    1.20567 +/- 0.01044\n",
      "       36/1    1.17969    1.20467 +/- 0.01008\n",
      "       37/1    1.18672    1.20401 +/- 0.00973\n",
      "       38/1    1.21340    1.20435 +/- 0.00938\n",
      "       39/1    1.22032    1.20490 +/- 0.00907\n",
      "       40/1    1.17863    1.20402 +/- 0.00880\n",
      "       41/1    1.18584    1.20343 +/- 0.00853\n",
      "       42/1    1.19080    1.20304 +/- 0.00827\n",
      "       43/1    1.18308    1.20243 +/- 0.00804\n",
      "       44/1    1.15618    1.20107 +/- 0.00792\n",
      "       45/1    1.18431    1.20060 +/- 0.00770\n",
      "       46/1    1.21112    1.20089 +/- 0.00749\n",
      "       47/1    1.20692    1.20105 +/- 0.00729\n",
      "       48/1    1.21379    1.20139 +/- 0.00710\n",
      "       49/1    1.12252    1.19936 +/- 0.00721\n",
      "       50/1    1.11863    1.19735 +/- 0.00731\n",
      "       51/1    1.22815    1.19810 +/- 0.00717\n",
      "       52/1    1.18293    1.19774 +/- 0.00700\n",
      "       53/1    1.10646    1.19561 +/- 0.00716\n",
      "       54/1    1.25661    1.19700 +/- 0.00713\n",
      "       55/1    1.17452    1.19650 +/- 0.00699\n",
      "       56/1    1.15893    1.19568 +/- 0.00688\n",
      "       57/1    1.29967    1.19790 +/- 0.00709\n",
      "       58/1    1.14850    1.19687 +/- 0.00702\n",
      "       59/1    1.22177    1.19737 +/- 0.00689\n",
      "       60/1    1.19042    1.19724 +/- 0.00675\n",
      "       61/1    1.17149    1.19673 +/- 0.00664\n",
      "       62/1    1.17106    1.19624 +/- 0.00653\n",
      "       63/1    1.19772    1.19627 +/- 0.00640\n",
      "       64/1    1.22377    1.19677 +/- 0.00631\n",
      "       65/1    1.23611    1.19749 +/- 0.00623\n",
      "       66/1    1.24618    1.19836 +/- 0.00618\n",
      "       67/1    1.13755    1.19729 +/- 0.00616\n",
      "       68/1    1.21235    1.19755 +/- 0.00606\n",
      "       69/1    1.22473    1.19801 +/- 0.00598\n",
      "       70/1    1.31287    1.19993 +/- 0.00618\n",
      "       71/1    1.22604    1.20035 +/- 0.00609\n",
      "       72/1    1.22492    1.20075 +/- 0.00601\n",
      "       73/1    1.17928    1.20041 +/- 0.00592\n",
      "       74/1    1.21724    1.20067 +/- 0.00583\n",
      "       75/1    1.26023    1.20159 +/- 0.00582\n",
      "       76/1    1.23396    1.20208 +/- 0.00575\n",
      "       77/1    1.10588    1.20064 +/- 0.00584\n",
      "       78/1    1.21845    1.20091 +/- 0.00576\n",
      "       79/1    1.15690    1.20027 +/- 0.00571\n",
      "       80/1    1.18613    1.20007 +/- 0.00563\n",
      "       81/1    1.23056    1.20050 +/- 0.00557\n",
      "       82/1    1.14646    1.19975 +/- 0.00554\n",
      "       83/1    1.21442    1.19995 +/- 0.00547\n",
      "       84/1    1.26101    1.20077 +/- 0.00546\n",
      "       85/1    1.25188    1.20145 +/- 0.00543\n",
      "       86/1    1.19284    1.20134 +/- 0.00536\n",
      "       87/1    1.23139    1.20173 +/- 0.00530\n",
      "       88/1    1.21272    1.20187 +/- 0.00524\n",
      "       89/1    1.16902    1.20145 +/- 0.00519\n",
      "       90/1    1.16732    1.20103 +/- 0.00514\n",
      "       91/1    1.26356    1.20180 +/- 0.00513\n",
      "       92/1    1.23507    1.20221 +/- 0.00509\n",
      "       93/1    1.21674    1.20238 +/- 0.00503\n",
      "       94/1    1.18329    1.20215 +/- 0.00497\n",
      "       95/1    1.21596    1.20232 +/- 0.00492\n",
      "       96/1    1.19975    1.20229 +/- 0.00486\n",
      "       97/1    1.16494    1.20186 +/- 0.00482\n",
      "       98/1    1.17128    1.20151 +/- 0.00478\n",
      "       99/1    1.28684    1.20247 +/- 0.00482\n",
      "      100/1    1.23480    1.20283 +/- 0.00478\n",
      " Creating state point statepoint.100.h5...\n",
      "\n",
      " =======================>     TIMING STATISTICS     <=======================\n",
      "\n",
      " Total time for initialization     = 4.6266e+00 seconds\n",
      "   Reading cross sections          = 4.5680e+00 seconds\n",
      " Total time in simulation          = 3.2195e+00 seconds\n",
      "   Time in transport only          = 2.3326e+00 seconds\n",
      "   Time in inactive batches        = 1.9944e-01 seconds\n",
      "   Time in active batches          = 3.0200e+00 seconds\n",
      "   Time synchronizing fission bank = 6.8314e-03 seconds\n",
      "     Sampling source sites         = 6.0745e-03 seconds\n",
      "     SEND/RECV source sites        = 5.2400e-04 seconds\n",
      "   Time accumulating tallies       = 8.1983e-01 seconds\n",
      "   Time writing statepoints        = 4.9022e-02 seconds\n",
      " Total time for finalization       = 1.5899e+00 seconds\n",
      " Total time elapsed                = 9.5052e+00 seconds\n",
      " Calculation Rate (inactive)       = 50139.6 particles/second\n",
      " Calculation Rate (active)         = 29800.9 particles/second\n",
      "\n",
      " ============================>     RESULTS     <============================\n",
      "\n",
      " k-effective (Collision)     = 1.20327 +/- 0.00425\n",
      " k-effective (Track-length)  = 1.20283 +/- 0.00478\n",
      " k-effective (Absorption)    = 1.20524 +/- 0.00388\n",
      " Combined k-effective        = 1.20433 +/- 0.00339\n",
      " Leakage Fraction            = 0.00000 +/- 0.00000\n",
      "\n"
     ]
    }
   ],
   "source": [
    "openmc.run()"
   ]
  },
  {
   "cell_type": "code",
   "execution_count": null,
   "metadata": {},
   "outputs": [],
   "source": []
  }
 ],
 "metadata": {
  "accelerator": "GPU",
  "colab": {
   "collapsed_sections": [],
   "name": "thick_thin.IPYNB",
   "provenance": []
  },
  "kernelspec": {
   "display_name": "Python 3 (ipykernel)",
   "language": "python",
   "name": "python3"
  },
  "language_info": {
   "codemirror_mode": {
    "name": "ipython",
    "version": 3
   },
   "file_extension": ".py",
   "mimetype": "text/x-python",
   "name": "python",
   "nbconvert_exporter": "python",
   "pygments_lexer": "ipython3",
   "version": "3.12.5"
  }
 },
 "nbformat": 4,
 "nbformat_minor": 4
}
