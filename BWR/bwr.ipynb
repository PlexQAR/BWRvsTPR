{
 "cells": [
  {
   "cell_type": "code",
   "execution_count": 2,
   "id": "3def6ee1-b3e9-4acf-9f86-00b63adaddcb",
   "metadata": {},
   "outputs": [
    {
     "name": "stderr",
     "output_type": "stream",
     "text": [
      "[sebastian-TUF-Gaming-FX505GT:06761] shmem: mmap: an error occurred while determining whether or not /tmp/ompi.sebastian-TUF-Gaming-FX505GT.1000/jf.0/3771138048/shared_mem_cuda_pool.sebastian-TUF-Gaming-FX505GT could be created.\n",
      "[sebastian-TUF-Gaming-FX505GT:06761] create_and_attach: unable to create shared memory BTL coordinating structure :: size 134217728 \n"
     ]
    },
    {
     "ename": "ModuleNotFoundError",
     "evalue": "No module named 'dotenv'",
     "output_type": "error",
     "traceback": [
      "\u001b[0;31m---------------------------------------------------------------------------\u001b[0m",
      "\u001b[0;31mModuleNotFoundError\u001b[0m                       Traceback (most recent call last)",
      "Cell \u001b[0;32mIn[2], line 10\u001b[0m\n\u001b[1;32m      8\u001b[0m \u001b[38;5;28;01mfrom\u001b[39;00m \u001b[38;5;21;01mIPython\u001b[39;00m\u001b[38;5;21;01m.\u001b[39;00m\u001b[38;5;21;01mdisplay\u001b[39;00m \u001b[38;5;28;01mimport\u001b[39;00m Image\n\u001b[1;32m      9\u001b[0m \u001b[38;5;28;01mfrom\u001b[39;00m \u001b[38;5;21;01mopenmc\u001b[39;00m \u001b[38;5;28;01mimport\u001b[39;00m Plot\n\u001b[0;32m---> 10\u001b[0m \u001b[38;5;28;01mfrom\u001b[39;00m \u001b[38;5;21;01mdotenv\u001b[39;00m \u001b[38;5;28;01mimport\u001b[39;00m load_dotenv\n\u001b[1;32m     12\u001b[0m load_dotenv()\n\u001b[1;32m     14\u001b[0m CROSS_SECTIONS \u001b[38;5;241m=\u001b[39m os\u001b[38;5;241m.\u001b[39mgetenv(\u001b[38;5;124m'\u001b[39m\u001b[38;5;124mCROSS_SECTIONS\u001b[39m\u001b[38;5;124m'\u001b[39m)\n",
      "\u001b[0;31mModuleNotFoundError\u001b[0m: No module named 'dotenv'"
     ]
    }
   ],
   "source": [
    "%matplotlib inline\n",
    "import numpy as np\n",
    "import matplotlib.pyplot as plt\n",
    "import openmc\n",
    "import os\n",
    "import openmc.deplete\n",
    "\n",
    "from IPython.display import Image\n",
    "from openmc import Plot\n",
    "from dotenv import load_dotenv\n",
    "\n",
    "load_dotenv()\n",
    "\n",
    "CROSS_SECTIONS = os.getenv('CROSS_SECTIONS')\n",
    "CHAIN_FILE = os.getenv('CHAIN_FILE')\n",
    "\n",
    "openmc.config['cross_sections'] = CROSS_SECTIONS\n",
    "openmc.config['chain_file'] = CHAIN_FILE"
   ]
  },
  {
   "cell_type": "code",
   "execution_count": 2,
   "id": "11262b8f-d692-4fb8-8cbb-1b28a54634c3",
   "metadata": {},
   "outputs": [],
   "source": [
    "# Define materials\n",
    "# 1.6% enriched fuel\n",
    "fuel = openmc.Material(name='1.6% Fuel')\n",
    "fuel.set_density('g/cm3', 10.31341)\n",
    "fuel.add_nuclide('U235', 3.7503e-4)\n",
    "fuel.add_nuclide('U238', 2.2625e-2)\n",
    "fuel.add_nuclide('O16', 4.6007e-2)\n",
    "fuel.volume = 100.0\n",
    "\n",
    "# Borated water\n",
    "water = openmc.Material(name='Borated Water')\n",
    "water.set_density('g/cm3', 0.740582)\n",
    "water.add_nuclide('H1', 4.9457e-2)\n",
    "water.add_nuclide('O16', 2.4732e-2)\n",
    "water.add_nuclide('B10', 8.0042e-6)\n",
    "\n",
    "# Zircaloy\n",
    "zircaloy = openmc.Material(name='Zircaloy')\n",
    "zircaloy.set_density('g/cm3', 6.55)\n",
    "zircaloy.add_nuclide('Zr90', 7.2758e-3)"
   ]
  },
  {
   "cell_type": "code",
   "execution_count": 3,
   "id": "7a58dab2-d882-4d8b-bd2e-9750e0ede274",
   "metadata": {},
   "outputs": [],
   "source": [
    "# Instantiate a Materials collection\n",
    "materials = openmc.Materials([fuel, water, zircaloy])\n",
    "\n",
    "# Export to \"materials.xml\"\n",
    "materials.export_to_xml()"
   ]
  },
  {
   "cell_type": "code",
   "execution_count": 4,
   "id": "4520232f-7768-4eee-978a-e6a695b7c783",
   "metadata": {},
   "outputs": [],
   "source": [
    "# Create cylinders for the fuel and clad\n",
    "fuel_outer_radius = openmc.ZCylinder(x0=0.0, y0=0.0, r=0.39218)\n",
    "clad_outer_radius = openmc.ZCylinder(x0=0.0, y0=0.0, r=0.45720)\n",
    "\n",
    "# Create boundary planes to surround the geometry\n",
    "min_x = openmc.XPlane(x0=-0.63, boundary_type='reflective')\n",
    "max_x = openmc.XPlane(x0=+0.63, boundary_type='reflective')\n",
    "min_y = openmc.YPlane(y0=-0.63, boundary_type='reflective')\n",
    "max_y = openmc.YPlane(y0=+0.63, boundary_type='reflective')\n",
    "min_z = openmc.ZPlane(z0=-0.63, boundary_type='reflective')\n",
    "max_z = openmc.ZPlane(z0=+0.63, boundary_type='reflective')"
   ]
  },
  {
   "cell_type": "code",
   "execution_count": 5,
   "id": "14bbf1b5-a110-460e-8ac6-450db717838f",
   "metadata": {},
   "outputs": [],
   "source": [
    "# Create Universe for the fuel pin and cells\n",
    "pin_cell_universe = openmc.Universe(name='1.6% Fuel Pin')\n",
    "\n",
    "# Add Cells to the pin universe\n",
    "fuel_cell = openmc.Cell(name='1.6% Fuel', fill=fuel, region=-fuel_outer_radius)\n",
    "pin_cell_universe.add_cell(fuel_cell)\n",
    "\n",
    "clad_cell = openmc.Cell(name='1.6% Clad', fill=zircaloy, region=+fuel_outer_radius & -clad_outer_radius)\n",
    "pin_cell_universe.add_cell(clad_cell)\n",
    "\n",
    "moderator_cell = openmc.Cell(name='1.6% Moderator', fill=water, region=+clad_outer_radius)\n",
    "pin_cell_universe.add_cell(moderator_cell)"
   ]
  },
  {
   "cell_type": "code",
   "execution_count": 6,
   "id": "42242836-c29b-4175-87a6-df29bcbca0a4",
   "metadata": {},
   "outputs": [],
   "source": [
    "# Create root Cell and Universe\n",
    "root_cell = openmc.Cell(name='root cell', fill=pin_cell_universe)\n",
    "root_cell.region = +min_x & -max_x & +min_y & -max_y & +min_z & -max_z\n",
    "\n",
    "root_universe = openmc.Universe(universe_id=0, name='root universe')\n",
    "root_universe.add_cell(root_cell)"
   ]
  },
  {
   "cell_type": "code",
   "execution_count": 7,
   "id": "f1537d30-3270-4c30-8394-e15b90c5b5f7",
   "metadata": {},
   "outputs": [],
   "source": [
    "# Create Geometry and set root Universe\n",
    "geometry = openmc.Geometry(root_universe)"
   ]
  },
  {
   "cell_type": "code",
   "execution_count": 8,
   "id": "6707c740-dc3f-4228-ac31-59297e19b60f",
   "metadata": {},
   "outputs": [],
   "source": [
    "# Export to \"geometry.xml\"\n",
    "geometry.export_to_xml()"
   ]
  },
  {
   "cell_type": "code",
   "execution_count": 1,
   "id": "f51b4321-2af2-4bfb-8ecc-c66e57919508",
   "metadata": {},
   "outputs": [
    {
     "ename": "NameError",
     "evalue": "name 'openmc' is not defined",
     "output_type": "error",
     "traceback": [
      "\u001b[0;31m---------------------------------------------------------------------------\u001b[0m",
      "\u001b[0;31mNameError\u001b[0m                                 Traceback (most recent call last)",
      "Cell \u001b[0;32mIn[1], line 2\u001b[0m\n\u001b[1;32m      1\u001b[0m \u001b[38;5;66;03m# OpenMC simulation settings\u001b[39;00m\n\u001b[0;32m----> 2\u001b[0m settings \u001b[38;5;241m=\u001b[39m \u001b[43mopenmc\u001b[49m\u001b[38;5;241m.\u001b[39mSettings()\n\u001b[1;32m      3\u001b[0m settings\u001b[38;5;241m.\u001b[39mbatches \u001b[38;5;241m=\u001b[39m \u001b[38;5;241m100\u001b[39m\n\u001b[1;32m      4\u001b[0m settings\u001b[38;5;241m.\u001b[39minactive \u001b[38;5;241m=\u001b[39m \u001b[38;5;241m10\u001b[39m\n",
      "\u001b[0;31mNameError\u001b[0m: name 'openmc' is not defined"
     ]
    }
   ],
   "source": [
    "# OpenMC simulation settings\n",
    "settings = openmc.Settings()\n",
    "settings.batches = 100\n",
    "settings.inactive = 10\n",
    "settings.particles = 1000\n",
    "\n",
    "# Create an initial uniform spatial source distribution over fissionable zones\n",
    "bounds = [-0.63, -0.63, -0.63, 0.63, 0.63, 0.63]\n",
    "uniform_dist = openmc.stats.Box(bounds[:3], bounds[3:], only_fissionable=True)\n",
    "settings.source = openmc.IndependentSource(space=uniform_dist)\n",
    "\n",
    "# Export to \"settings.xml\"\n",
    "settings.export_to_xml()"
   ]
  },
  {
   "cell_type": "code",
   "execution_count": 10,
   "id": "49c3b284-4673-4e22-ba75-2a6b1a482f75",
   "metadata": {},
   "outputs": [],
   "source": [
    "# Set up mesh for tally\n",
    "mesh = openmc.RegularMesh()\n",
    "mesh.dimension = [100, 100]\n",
    "mesh.lower_left = [-0.63, -0.63]\n",
    "mesh.upper_right = [0.63, 0.63]\n",
    "\n",
    "# Create mesh filter for tally\n",
    "mesh_filter = openmc.MeshFilter(mesh)"
   ]
  },
  {
   "cell_type": "code",
   "execution_count": 11,
   "id": "23c499e1-73f2-4146-ac27-e68c0b77072f",
   "metadata": {},
   "outputs": [],
   "source": [
    "# Create a tally to score flux and fission rate\n",
    "tallies = openmc.Tallies()\n",
    "tally = openmc.Tally(name='flux')\n",
    "tally.filters = [mesh_filter]\n",
    "tally.scores = ['flux', 'fission']\n",
    "tallies.append(tally)\n",
    "\n",
    "# Attach tallies to the model\n",
    "model = openmc.Model()\n",
    "model.materials = materials\n",
    "model.geometry = geometry\n",
    "model.tallies = tallies"
   ]
  },
  {
   "cell_type": "code",
   "execution_count": 12,
   "id": "68eb8fc1-789a-4bcd-bfe8-b41bac2f9336",
   "metadata": {},
   "outputs": [],
   "source": [
    "# Export tallies to \"tallies.xml\"\n",
    "tallies.export_to_xml()"
   ]
  },
  {
   "cell_type": "code",
   "execution_count": 13,
   "id": "ea3d1db6-4ac9-4882-b139-ef44faf77cd8",
   "metadata": {},
   "outputs": [],
   "source": [
    "# Define a voxel plot\n",
    "vox_plot = openmc.Plot()\n",
    "vox_plot.type = 'voxel'\n",
    "vox_plot.width = (100., 100., 50.)\n",
    "vox_plot.pixels = (400, 400, 200)"
   ]
  },
  {
   "cell_type": "code",
   "execution_count": 14,
   "id": "f5597057-0b26-401b-b241-ceb9d0d57cc8",
   "metadata": {},
   "outputs": [],
   "source": [
    "plots = openmc.Plots([vox_plot])\n",
    "plots.export_to_xml()"
   ]
  },
  {
   "cell_type": "code",
   "execution_count": null,
   "id": "d79bfa1f-284b-4578-ae87-5caa1efa75fd",
   "metadata": {},
   "outputs": [],
   "source": [
    "# Define depletion operator and integrate\n",
    "op = openmc.deplete.CoupledOperator(model)\n",
    "power = 1200.0e6  # watts\n",
    "timesteps = [10.0, 10.0, 10.0]  # days\n",
    "integrator = openmc.deplete.CECMIntegrator(op, timesteps, power, timestep_units='d')\n",
    "integrator.integrate()"
   ]
  },
  {
   "cell_type": "code",
   "execution_count": null,
   "id": "c7df29d8-562e-4710-b0a4-99aad8d10360",
   "metadata": {},
   "outputs": [],
   "source": [
    "# Run OpenMC!\n",
    "openmc.run()"
   ]
  },
  {
   "cell_type": "code",
   "execution_count": null,
   "id": "f17c8d26-e859-4b88-9b48-d894ca33f52b",
   "metadata": {},
   "outputs": [],
   "source": [
    "results = openmc.deplete.Results(\"depletion_results.h5\")\n",
    "time, keff = results.get_keff()\n",
    "\n",
    "# Load the statepoint file\n",
    "sp = openmc.StatePoint('statepoint.100.h5')"
   ]
  },
  {
   "cell_type": "code",
   "execution_count": null,
   "id": "ac822e4a-2fa2-4cec-a806-8fedbdcba89a",
   "metadata": {},
   "outputs": [],
   "source": [
    "tally = sp.get_tally(scores=['flux'])\n",
    "print(tally)"
   ]
  },
  {
   "cell_type": "code",
   "execution_count": null,
   "id": "72ae78ff-d7a1-43cf-a2bb-f14ae194d2f5",
   "metadata": {},
   "outputs": [],
   "source": [
    "tally.sum"
   ]
  },
  {
   "cell_type": "code",
   "execution_count": null,
   "id": "6cf569d8-3902-48a9-a563-a33aeded96ff",
   "metadata": {},
   "outputs": [],
   "source": [
    "print(tally.mean.shape)\n",
    "(tally.mean, tally.std_dev)"
   ]
  },
  {
   "cell_type": "code",
   "execution_count": null,
   "id": "40a8994c-42c0-4ed0-9c78-b795dbc42f38",
   "metadata": {},
   "outputs": [],
   "source": [
    "flux = tally.get_slice(scores=['flux'])\n",
    "fission = tally.get_slice(scores=['fission'])\n",
    "print(flux)"
   ]
  },
  {
   "cell_type": "code",
   "execution_count": null,
   "id": "c53602c1-5122-474e-b88b-bc251228fd00",
   "metadata": {},
   "outputs": [],
   "source": [
    "flux.std_dev.shape = (100, 100)\n",
    "flux.mean.shape = (100, 100)\n",
    "fission.std_dev.shape = (100, 100)\n",
    "fission.mean.shape = (100, 100)"
   ]
  },
  {
   "cell_type": "code",
   "execution_count": null,
   "id": "835d4165-aeb5-4353-bf48-e9afd9047c51",
   "metadata": {},
   "outputs": [],
   "source": [
    "fig = plt.subplot(121)\n",
    "fig.imshow(flux.mean)\n",
    "fig2 = plt.subplot(122)\n",
    "fig2.imshow(fission.mean)"
   ]
  },
  {
   "cell_type": "code",
   "execution_count": null,
   "id": "13cc5f6a-5008-4bdf-a8b5-36c8e8e0cf06",
   "metadata": {},
   "outputs": [],
   "source": [
    "# Determine relative error\n",
    "relative_error = np.zeros_like(flux.std_dev)\n",
    "nonzero = flux.mean > 0\n",
    "relative_error[nonzero] = flux.std_dev[nonzero] / flux.mean[nonzero]\n",
    "\n",
    "# distribution of relative errors\n",
    "ret = plt.hist(relative_error[nonzero], bins=50)"
   ]
  },
  {
   "cell_type": "code",
   "execution_count": null,
   "id": "0157075e-59ed-46df-98ca-601ab32040aa",
   "metadata": {},
   "outputs": [],
   "source": [
    "sp.source"
   ]
  },
  {
   "cell_type": "code",
   "execution_count": null,
   "id": "5aff389f-3bc6-4c1d-897f-4437bd4372ea",
   "metadata": {},
   "outputs": [],
   "source": [
    "sp.source['E']"
   ]
  },
  {
   "cell_type": "code",
   "execution_count": null,
   "id": "5c141915-3f42-4d3a-94f5-3763b228be78",
   "metadata": {},
   "outputs": [],
   "source": [
    "# Create log-spaced energy bins from 1 keV to 10 MeV\n",
    "energy_bins = np.logspace(3,7)\n",
    "\n",
    "# Calculate pdf for source energies\n",
    "probability, bin_edges = np.histogram(sp.source['E'], energy_bins, density=True)\n",
    "\n",
    "# Make sure integrating the PDF gives us unity\n",
    "print(sum(probability*np.diff(energy_bins)))\n",
    "\n",
    "# Plot source energy PDF\n",
    "plt.semilogx(energy_bins[:-1], probability*np.diff(energy_bins), drawstyle='steps')\n",
    "plt.xlabel('Energy (eV)')\n",
    "plt.ylabel('Probability/eV')"
   ]
  },
  {
   "cell_type": "code",
   "execution_count": null,
   "id": "7f5c6420-f8a0-4d09-ba42-509529697582",
   "metadata": {},
   "outputs": [],
   "source": [
    "plt.quiver(sp.source['r']['x'], sp.source['r']['y'],\n",
    "           sp.source['u']['x'], sp.source['u']['y'],\n",
    "           np.log(sp.source['E']), cmap='jet', scale=20.0)\n",
    "plt.colorbar()\n",
    "plt.xlim((-0.5,0.5))\n",
    "plt.ylim((-0.5,0.5))"
   ]
  },
  {
   "cell_type": "code",
   "execution_count": null,
   "id": "af0fae0f-c5b7-469b-8f4c-e8f8d2cd097f",
   "metadata": {},
   "outputs": [],
   "source": [
    "# Close the statepoint file as a matter of best practice\n",
    "sp.close()"
   ]
  }
 ],
 "metadata": {
  "kernelspec": {
   "display_name": "Python 3 (ipykernel)",
   "language": "python",
   "name": "python3"
  },
  "language_info": {
   "codemirror_mode": {
    "name": "ipython",
    "version": 3
   },
   "file_extension": ".py",
   "mimetype": "text/x-python",
   "name": "python",
   "nbconvert_exporter": "python",
   "pygments_lexer": "ipython3",
   "version": "3.12.5"
  }
 },
 "nbformat": 4,
 "nbformat_minor": 5
}
